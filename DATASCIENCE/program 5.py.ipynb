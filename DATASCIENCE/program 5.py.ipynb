{
 "cells": [
  {
   "cell_type": "code",
   "execution_count": 3,
   "id": "1e502d27",
   "metadata": {},
   "outputs": [
    {
     "name": "stdout",
     "output_type": "stream",
     "text": [
      "Sample Prediction: [0]\n",
      "Model Accuracy: 0.8022388059701493\n"
     ]
    }
   ],
   "source": [
    "import numpy as np  \n",
    "import pandas as pd\n",
    "from sklearn.model_selection import train_test_split  \n",
    "from sklearn.neighbors import KNeighborsClassifier \n",
    "from sklearn.metrics import accuracy_score\n",
    "from sklearn.preprocessing import LabelEncoder\n",
    "\n",
    "# Load dataset\n",
    "data = pd.read_csv('insurance.csv')\n",
    "\n",
    "# Encode categorical columns\n",
    "le = LabelEncoder()\n",
    "categorical_columns = ['sex', 'smoker', 'region']\n",
    "for col in categorical_columns:\n",
    "    data[col] = le.fit_transform(data[col])\n",
    "\n",
    "# Feature matrix (X) and target vector (y)\n",
    "X = data.iloc[:, :6]   # First 6 columns as features\n",
    "y = data['smoker']     # Example: classify whether smoker or not\n",
    "\n",
    "# Encode target if not already numeric\n",
    "if y.dtype == 'object':\n",
    "    y = le.fit_transform(y)\n",
    "\n",
    "# Split the dataset\n",
    "X_train, X_test, y_train, y_test = train_test_split(\n",
    "    X, y, test_size=0.2, random_state=42\n",
    ")\n",
    "\n",
    "# Train the KNN model\n",
    "k = 3\n",
    "knn = KNeighborsClassifier(n_neighbors=k)\n",
    "knn.fit(X_train, y_train)\n",
    "\n",
    "# Predict on test data\n",
    "y_pred = knn.predict(X_test)\n",
    "\n",
    "# Predict on a new sample (ensure it matches feature scaling & encoding)\n",
    "sample = [[1, 10, 9, 11, 4, 2]]  # Dummy example — be careful with real data\n",
    "sample_prediction = knn.predict(sample)\n",
    "print(\"Sample Prediction:\", sample_prediction)\n",
    "\n",
    "# Model accuracy\n",
    "accuracy = accuracy_score(y_test, y_pred)\n",
    "print(\"Model Accuracy:\", accuracy)\n"
   ]
  },
  {
   "cell_type": "code",
   "execution_count": 5,
   "id": "11e02a5d",
   "metadata": {},
   "outputs": [
    {
     "name": "stdout",
     "output_type": "stream",
     "text": [
      "[1]\n",
      "1.0\n"
     ]
    }
   ],
   "source": [
    "import numpy as np  \n",
    "import pandas as pd \n",
    "# from sklearn.datasets import load_iris \n",
    "from sklearn.model_selection import train_test_split  \n",
    "from sklearn.neighbors import KNeighborsClassifier \n",
    "from sklearn.metrics import accuracy_score \n",
    "from sklearn.preprocessing import LabelEncoder \n",
    "data = pd.read_csv('cricket.csv') \n",
    "X = data.iloc[:, :5] \n",
    "# print(X) \n",
    "y= data.iloc[:, 4] \n",
    "# print(y) \n",
    "le = LabelEncoder() \n",
    "categorical_columns = ['Outlook','Temp','Humidity','Windy','Play Cricket']   \n",
    "for col in categorical_columns: \n",
    "    X[col] = le.fit_transform(X[col]) \n",
    "y = le.fit_transform(y) \n",
    "X_train,X_test,y_train,y_test = train_test_split(X,y,test_size=0.2,random_state=42) \n",
    "k=3 \n",
    "knn = KNeighborsClassifier(n_neighbors=k) \n",
    "knn.fit(X_train,y_train) \n",
    "y_pred = knn.predict(X_test) \n",
    "sample=[[1,10,9,11,4]]\n",
    "k=knn.predict(sample) \n",
    "print(k) \n",
    "accuracy = accuracy_score(y_test,y_pred) \n",
    "print(accuracy) "
   ]
  },
  {
   "cell_type": "code",
   "execution_count": 6,
   "id": "4de53ccf",
   "metadata": {},
   "outputs": [
    {
     "name": "stdout",
     "output_type": "stream",
     "text": [
      "[2]\n",
      "0.3333333333333333\n"
     ]
    }
   ],
   "source": [
    "import numpy as np  \n",
    "import pandas as pd \n",
    "# from sklearn.datasets import load_iris \n",
    "from sklearn.model_selection import train_test_split  \n",
    "from sklearn.neighbors import KNeighborsClassifier \n",
    "from sklearn.metrics import accuracy_score \n",
    "from sklearn.preprocessing import LabelEncoder \n",
    "data = pd.read_csv('food.csv') \n",
    "X = data.iloc[:, :3] \n",
    "# print(X) \n",
    "y= data.iloc[:, 3] \n",
    "le = LabelEncoder() \n",
    "categorical_columns = ['Ingredient']   \n",
    "for col in categorical_columns: \n",
    "    X[col] = le.fit_transform(X[col]) \n",
    "y = le.fit_transform(y) \n",
    "X_train,X_test,y_train,y_test = train_test_split(X,y,test_size=0.2,random_state=42) \n",
    "k=3 \n",
    "knn = KNeighborsClassifier(n_neighbors=k) \n",
    "knn.fit(X_train,y_train) \n",
    "y_pred = knn.predict(X_test) \n",
    "sample=[[1,10,9]] \n",
    "k=knn.predict(sample) \n",
    "print(k) \n",
    "accuracy = accuracy_score(y_test,y_pred) \n",
    "print(accuracy)"
   ]
  },
  {
   "cell_type": "code",
   "execution_count": null,
   "id": "0858b302",
   "metadata": {},
   "outputs": [],
   "source": []
  }
 ],
 "metadata": {
  "kernelspec": {
   "display_name": "Python 3 (ipykernel)",
   "language": "python",
   "name": "python3"
  },
  "language_info": {
   "codemirror_mode": {
    "name": "ipython",
    "version": 3
   },
   "file_extension": ".py",
   "mimetype": "text/x-python",
   "name": "python",
   "nbconvert_exporter": "python",
   "pygments_lexer": "ipython3",
   "version": "3.9.7"
  }
 },
 "nbformat": 4,
 "nbformat_minor": 5
}
