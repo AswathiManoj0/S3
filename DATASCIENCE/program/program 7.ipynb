{
 "cells": [
  {
   "cell_type": "code",
   "execution_count": 1,
   "id": "23a3fd97",
   "metadata": {},
   "outputs": [],
   "source": [
    "import numpy as np \n",
    "import pandas as pd \n",
    "from sklearn.datasets import load_iris \n",
    "from sklearn.model_selection import train_test_split \n",
    "from sklearn.linear_model import LinearRegression \n",
    "from sklearn.metrics import mean_squared_error"
   ]
  },
  {
   "cell_type": "code",
   "execution_count": 2,
   "id": "634841fa",
   "metadata": {},
   "outputs": [],
   "source": [
    "data = load_iris() \n",
    "X=data.data \n",
    "y=data.target \n",
    "X_train,X_test,y_train,y_test=train_test_split(X,y,test_size=0.2,random_state=42)"
   ]
  },
  {
   "cell_type": "code",
   "execution_count": 3,
   "id": "46a6b9c9",
   "metadata": {},
   "outputs": [
    {
     "name": "stdout",
     "output_type": "stream",
     "text": [
      "Linear Regression MSE: 0.03711379440797688\n"
     ]
    }
   ],
   "source": [
    "lr_model=LinearRegression() \n",
    "lr_model.fit(X_train,y_train) \n",
    "lr_predictions=lr_model.predict(X_test) \n",
    "lr_mse=mean_squared_error(y_test,lr_predictions) \n",
    "#print the Mean Squared Error(MSE) for Linear Regression \n",
    "print(f'Linear Regression MSE: {lr_mse}') "
   ]
  },
  {
   "cell_type": "code",
   "execution_count": 4,
   "id": "4ca9ab01",
   "metadata": {},
   "outputs": [],
   "source": [
    "import numpy as np \n",
    "import pandas as pd \n",
    "from sklearn.datasets import load_iris \n",
    "from sklearn.model_selection import train_test_split \n",
    "from sklearn.linear_model import LinearRegression \n",
    "from sklearn.metrics import mean_squared_error"
   ]
  },
  {
   "cell_type": "code",
   "execution_count": 5,
   "id": "cdcb35e9",
   "metadata": {},
   "outputs": [],
   "source": [
    "data = load_iris() \n",
    "X=data.data[:,0].reshape(-1,1) \n",
    "y=data.target \n",
    "X_train,X_test,y_train,y_test=train_test_split(X,y,test_size=0.2,random_state=42)"
   ]
  },
  {
   "cell_type": "code",
   "execution_count": 6,
   "id": "d5db70d3",
   "metadata": {},
   "outputs": [
    {
     "name": "stdout",
     "output_type": "stream",
     "text": [
      "Multiple Linear Regression MSE: 0.1979546681395589\n"
     ]
    }
   ],
   "source": [
    "mlr_model=LinearRegression() \n",
    "mlr_model.fit(X_train,y_train) \n",
    "mlr_predictions=mlr_model.predict(X_test) \n",
    "mlr_mse=mean_squared_error(y_test,mlr_predictions) \n",
    "#print the Mean Squared Error(MSE) for Linear Regression \n",
    "print(f'Multiple Linear Regression MSE: {mlr_mse}')"
   ]
  },
  {
   "cell_type": "code",
   "execution_count": null,
   "id": "29ea83e2",
   "metadata": {},
   "outputs": [],
   "source": []
  }
 ],
 "metadata": {
  "kernelspec": {
   "display_name": "Python 3 (ipykernel)",
   "language": "python",
   "name": "python3"
  },
  "language_info": {
   "codemirror_mode": {
    "name": "ipython",
    "version": 3
   },
   "file_extension": ".py",
   "mimetype": "text/x-python",
   "name": "python",
   "nbconvert_exporter": "python",
   "pygments_lexer": "ipython3",
   "version": "3.9.7"
  }
 },
 "nbformat": 4,
 "nbformat_minor": 5
}
