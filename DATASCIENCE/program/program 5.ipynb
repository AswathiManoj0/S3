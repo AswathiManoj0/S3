{
 "cells": [
  {
   "cell_type": "code",
   "execution_count": 3,
   "id": "b69a769e",
   "metadata": {},
   "outputs": [
    {
     "name": "stdout",
     "output_type": "stream",
     "text": [
      "Accuracy of k-NN with k=3:1.00\n"
     ]
    }
   ],
   "source": [
    "import numpy as np  \n",
    "from sklearn.datasets import load_iris \n",
    "from sklearn.model_selection import train_test_split  \n",
    "from sklearn.neighbors import KNeighborsClassifier \n",
    "from sklearn.metrics import accuracy_score \n",
    "# df=pd.read_csv ('data.csv') \n",
    "data = load_iris() \n",
    "X = data.data \n",
    "y= data.target \n",
    "X_train,X_test,y_train,y_test = train_test_split(X,y,test_size=0.2,random_state=42) \n",
    "k=3  \n",
    "knn = KNeighborsClassifier(n_neighbors=3) \n",
    "knn.fit(X_train,y_train) \n",
    "y_pred = knn.predict(X_test) \n",
    "accuracy = accuracy_score(y_test,y_pred) \n",
    "print(f'Accuracy of k-NN with k={k}:{accuracy:.2f}') "
   ]
  },
  {
   "cell_type": "code",
   "execution_count": 20,
   "id": "5daad681",
   "metadata": {},
   "outputs": [
    {
     "name": "stdout",
     "output_type": "stream",
     "text": [
      "Prediction for sample: [2]\n",
      "vegetable\n",
      "Accuracy: 33.33%\n"
     ]
    }
   ],
   "source": [
    "import numpy as np  \n",
    "import pandas as pd \n",
    "from sklearn.model_selection import train_test_split  \n",
    "from sklearn.neighbors import KNeighborsClassifier \n",
    "from sklearn.metrics import accuracy_score \n",
    "from sklearn.preprocessing import LabelEncoder \n",
    "\n",
    "# Load dataset\n",
    "data = pd.read_csv('food.csv') \n",
    "\n",
    "# Select features and target variable\n",
    "X = data.iloc[:, :3]   # Assuming first 3 columns are features\n",
    "y = data.iloc[:, 3]    # Assuming 4th column is the label\n",
    "\n",
    "# Initialize Label Encoder\n",
    "le = LabelEncoder() \n",
    "\n",
    "# List of categorical columns to encode in X\n",
    "categorical_columns = ['Ingredient']   \n",
    "\n",
    "# Encode categorical features\n",
    "for col in categorical_columns: \n",
    "    X[col] = le.fit_transform(X[col])  # Indentation fixed here\n",
    "\n",
    "# Encode target variable labels\n",
    "y = le.fit_transform(y) \n",
    "\n",
    "# Split dataset into train and test sets (80-20 split)\n",
    "X_train, X_test, y_train, y_test = train_test_split(X, y, test_size=0.2, random_state=42) \n",
    "\n",
    "# Define KNN classifier with k=3\n",
    "k = 3 \n",
    "knn = KNeighborsClassifier(n_neighbors=k) \n",
    "\n",
    "# Train the classifier\n",
    "knn.fit(X_train, y_train) \n",
    "\n",
    "# Predict on test data\n",
    "y_pred = knn.predict(X_test) \n",
    "\n",
    "# Predict on a sample input\n",
    "sample = [[1, 10, 9]] \n",
    "k_pred = knn.predict(sample) \n",
    "print(\"Prediction for sample:\", k_pred) \n",
    "res=knn.predict(sample)[0]\n",
    "pred_label =le.inverse_transform([res])[0]\n",
    "print(pred_label)\n",
    "\n",
    "# Calculate and print accuracy\n",
    "accuracy = accuracy_score(y_test, y_pred) \n",
    "print(f\"Accuracy: {accuracy*100:.2f}%\")\n"
   ]
  },
  {
   "cell_type": "code",
   "execution_count": 22,
   "id": "1742dfe4",
   "metadata": {},
   "outputs": [
    {
     "name": "stdout",
     "output_type": "stream",
     "text": [
      "Sample prediction: [0]\n",
      "No\n",
      "Accuracy: 33.33%\n"
     ]
    }
   ],
   "source": [
    "import numpy as np  \n",
    "import pandas as pd \n",
    "from sklearn.model_selection import train_test_split  \n",
    "from sklearn.neighbors import KNeighborsClassifier \n",
    "from sklearn.metrics import accuracy_score \n",
    "from sklearn.preprocessing import LabelEncoder \n",
    "\n",
    "# Load data\n",
    "data = pd.read_csv('cricket.csv') \n",
    "\n",
    "# Features and label\n",
    "X = data.iloc[:, :4].copy()\n",
    "y = data.iloc[:, 4]   \n",
    "#print(y)\n",
    "# Encode categorical variables\n",
    "le = LabelEncoder()\n",
    "categorical_columns = ['Outlook', 'Temp', 'Humidity', 'Windy']\n",
    "for col in categorical_columns:\n",
    "    X.loc[:, col] = le.fit_transform(X[col])\n",
    "\n",
    "# Encode target\n",
    "y = le.fit_transform(y)\n",
    "\n",
    "# Train-test split\n",
    "X_train, X_test, y_train, y_test = train_test_split(X, y, test_size=0.2, random_state=42)\n",
    "\n",
    "# Model\n",
    "knn = KNeighborsClassifier(n_neighbors=3)\n",
    "knn.fit(X_train, y_train)\n",
    "\n",
    "# Predict\n",
    "y_pred = knn.predict(X_test)\n",
    "sample = [[1, 2, 0, 1]]\n",
    "print(\"Sample prediction:\", knn.predict(sample))\n",
    "res=knn.predict(sample)[0]\n",
    "pred_label =le.inverse_transform([res])[0]\n",
    "print(pred_label)\n",
    "\n",
    "# Accuracy\n",
    "accuracy = accuracy_score(y_test, y_pred)\n",
    "print(f\"Accuracy: {accuracy * 100:.2f}%\")\n"
   ]
  },
  {
   "cell_type": "code",
   "execution_count": 23,
   "id": "b8fb9a34",
   "metadata": {},
   "outputs": [
    {
     "name": "stdout",
     "output_type": "stream",
     "text": [
      "      age     sex     bmi  children smoker     region\n",
      "0      19  female  27.900         0    yes  southwest\n",
      "1      18    male  33.770         1     no  southeast\n",
      "2      28    male  33.000         3     no  southeast\n",
      "3      33    male  22.705         0     no  northwest\n",
      "4      32    male  28.880         0     no  northwest\n",
      "...   ...     ...     ...       ...    ...        ...\n",
      "1333   50    male  30.970         3     no  northwest\n",
      "1334   18  female  31.920         0     no  northeast\n",
      "1335   18  female  36.850         0     no  southeast\n",
      "1336   21  female  25.800         0     no  southwest\n",
      "1337   61  female  29.070         0    yes  northwest\n",
      "\n",
      "[1338 rows x 6 columns]\n",
      "male\n",
      "0.6977611940298507\n"
     ]
    }
   ],
   "source": [
    "import numpy as np  \n",
    "import pandas as pd \n",
    "# from sklearn.datasets import load_iris \n",
    "from sklearn.model_selection import train_test_split  \n",
    "from sklearn.neighbors import KNeighborsClassifier \n",
    "from sklearn.metrics import accuracy_score \n",
    "data = pd.read_csv('insurance.csv') \n",
    "X = data.iloc[:, :6] \n",
    "print(X)\n",
    "y= data.iloc[:, 1] \n",
    "le = LabelEncoder() \n",
    "categorical_columns = ['sex', 'smoker', 'region']   \n",
    "for col in categorical_columns: \n",
    "    X[col] = le.fit_transform(X[col]) \n",
    "y = le.fit_transform(y) \n",
    "X_train,X_test,y_train,y_test = train_test_split(X,y,test_size=0.2,random_state=42) \n",
    "k=3 \n",
    "knn = KNeighborsClassifier(n_neighbors=k) \n",
    "knn.fit(X_train,y_train) \n",
    "y_pred = knn.predict(X_test) \n",
    "sample=[[1,10,9,11,4,2]] \n",
    "res=knn.predict(sample)[0]\n",
    "pred_label =le.inverse_transform([res])[0]\n",
    "print(pred_label)\n",
    "\n",
    "accuracy = accuracy_score(y_test,y_pred) \n",
    "print(accuracy)\n"
   ]
  },
  {
   "cell_type": "code",
   "execution_count": null,
   "id": "68b8f447",
   "metadata": {},
   "outputs": [],
   "source": []
  }
 ],
 "metadata": {
  "kernelspec": {
   "display_name": "Python 3 (ipykernel)",
   "language": "python",
   "name": "python3"
  },
  "language_info": {
   "codemirror_mode": {
    "name": "ipython",
    "version": 3
   },
   "file_extension": ".py",
   "mimetype": "text/x-python",
   "name": "python",
   "nbconvert_exporter": "python",
   "pygments_lexer": "ipython3",
   "version": "3.9.7"
  }
 },
 "nbformat": 4,
 "nbformat_minor": 5
}
