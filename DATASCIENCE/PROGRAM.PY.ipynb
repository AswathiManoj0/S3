{
 "cells": [
  {
   "cell_type": "code",
   "execution_count": 3,
   "id": "24bdb3c2",
   "metadata": {},
   "outputs": [],
   "source": [
    "def my_fun():\n",
    "    print(\"hello\")"
   ]
  },
  {
   "cell_type": "code",
   "execution_count": 4,
   "id": "73677d7d",
   "metadata": {},
   "outputs": [
    {
     "name": "stdout",
     "output_type": "stream",
     "text": [
      "hello\n"
     ]
    }
   ],
   "source": [
    "my_fun()"
   ]
  },
  {
   "cell_type": "code",
   "execution_count": 12,
   "id": "cc287780",
   "metadata": {},
   "outputs": [],
   "source": [
    "def sum(a,b):\n",
    "    c"
   ]
  },
  {
   "cell_type": "code",
   "execution_count": 13,
   "id": "c4449bb5",
   "metadata": {},
   "outputs": [],
   "source": [
    "a=3\n",
    "b=4\n",
    "c=a+b\n"
   ]
  },
  {
   "cell_type": "code",
   "execution_count": 14,
   "id": "7bf99ec1",
   "metadata": {},
   "outputs": [
    {
     "data": {
      "text/plain": [
       "7"
      ]
     },
     "execution_count": 14,
     "metadata": {},
     "output_type": "execute_result"
    }
   ],
   "source": [
    "c"
   ]
  },
  {
   "cell_type": "code",
   "execution_count": 15,
   "id": "d1c22acb",
   "metadata": {},
   "outputs": [],
   "source": [
    "a=[1,2,3,4,5]"
   ]
  },
  {
   "cell_type": "code",
   "execution_count": 17,
   "id": "70e13436",
   "metadata": {},
   "outputs": [
    {
     "data": {
      "text/plain": [
       "[1, 2, 3, 4, 5]"
      ]
     },
     "execution_count": 17,
     "metadata": {},
     "output_type": "execute_result"
    }
   ],
   "source": [
    "a"
   ]
  },
  {
   "cell_type": "code",
   "execution_count": 18,
   "id": "4f1c10ab",
   "metadata": {},
   "outputs": [],
   "source": [
    "text=\"hello world hi\""
   ]
  },
  {
   "cell_type": "code",
   "execution_count": 19,
   "id": "4936b733",
   "metadata": {},
   "outputs": [
    {
     "data": {
      "text/plain": [
       "['hello', 'world', 'hi']"
      ]
     },
     "execution_count": 19,
     "metadata": {},
     "output_type": "execute_result"
    }
   ],
   "source": [
    "text.split()"
   ]
  },
  {
   "cell_type": "code",
   "execution_count": 20,
   "id": "5b8c0f16",
   "metadata": {},
   "outputs": [],
   "source": [
    "t=\"hel,lo,wor,ld hi\""
   ]
  },
  {
   "cell_type": "code",
   "execution_count": 21,
   "id": "05efd221",
   "metadata": {},
   "outputs": [
    {
     "data": {
      "text/plain": [
       "['hel', 'lo', 'wor', 'ld hi']"
      ]
     },
     "execution_count": 21,
     "metadata": {},
     "output_type": "execute_result"
    }
   ],
   "source": [
    "t.split(\",\")"
   ]
  },
  {
   "cell_type": "code",
   "execution_count": 22,
   "id": "5d2b4f6b",
   "metadata": {},
   "outputs": [],
   "source": [
    "ab=text.split()"
   ]
  },
  {
   "cell_type": "code",
   "execution_count": 23,
   "id": "5500d7a5",
   "metadata": {},
   "outputs": [
    {
     "data": {
      "text/plain": [
       "'hello'"
      ]
     },
     "execution_count": 23,
     "metadata": {},
     "output_type": "execute_result"
    }
   ],
   "source": [
    "ab[0]"
   ]
  },
  {
   "cell_type": "code",
   "execution_count": 24,
   "id": "fcea92e8",
   "metadata": {},
   "outputs": [
    {
     "data": {
      "text/plain": [
       "'hi'"
      ]
     },
     "execution_count": 24,
     "metadata": {},
     "output_type": "execute_result"
    }
   ],
   "source": [
    "ab[-1]"
   ]
  },
  {
   "cell_type": "code",
   "execution_count": 25,
   "id": "a53c4fdd",
   "metadata": {},
   "outputs": [
    {
     "name": "stdout",
     "output_type": "stream",
     "text": [
      "1\n",
      "2\n",
      "3\n",
      "4\n",
      "5\n"
     ]
    }
   ],
   "source": [
    "x=[1,2,3,4,5]\n",
    "for i in x:\n",
    "    print(i)"
   ]
  },
  {
   "cell_type": "code",
   "execution_count": 26,
   "id": "a68018d5",
   "metadata": {},
   "outputs": [
    {
     "name": "stdout",
     "output_type": "stream",
     "text": [
      "0\n",
      "1\n",
      "2\n",
      "3\n",
      "4\n",
      "5\n",
      "6\n",
      "7\n",
      "8\n",
      "9\n"
     ]
    }
   ],
   "source": [
    "for i in range(0,10):\n",
    "    print(i)"
   ]
  },
  {
   "cell_type": "code",
   "execution_count": 29,
   "id": "482c2ce0",
   "metadata": {},
   "outputs": [
    {
     "name": "stdout",
     "output_type": "stream",
     "text": [
      "10\n",
      "9\n",
      "8\n",
      "7\n",
      "6\n",
      "5\n",
      "4\n",
      "3\n",
      "2\n",
      "1\n"
     ]
    }
   ],
   "source": [
    "for i in range(10,0,-1):\n",
    "    print(i)"
   ]
  },
  {
   "cell_type": "code",
   "execution_count": 30,
   "id": "8ec041d0",
   "metadata": {},
   "outputs": [
    {
     "name": "stdout",
     "output_type": "stream",
     "text": [
      "enter the size of array5\n",
      "enter the values:1\n",
      "enter the values:2\n",
      "enter the values:3\n",
      "enter the values:4\n",
      "enter the values:5\n"
     ]
    }
   ],
   "source": [
    "list1=[]\n",
    "te=int(input(\"enter the size of array\"))\n",
    "for i in range(0,te):\n",
    "    l=input(\"enter the values:\")\n",
    "    list1.append(l)"
   ]
  },
  {
   "cell_type": "code",
   "execution_count": 31,
   "id": "8fe1501b",
   "metadata": {},
   "outputs": [
    {
     "data": {
      "text/plain": [
       "['1', '2', '3', '4', '5']"
      ]
     },
     "execution_count": 31,
     "metadata": {},
     "output_type": "execute_result"
    }
   ],
   "source": [
    "list1"
   ]
  },
  {
   "cell_type": "code",
   "execution_count": 32,
   "id": "ecf5de7d",
   "metadata": {},
   "outputs": [],
   "source": [
    "import math\n",
    "r=2\n",
    "rs=math.pi*r*r"
   ]
  },
  {
   "cell_type": "code",
   "execution_count": 33,
   "id": "b55e0de3",
   "metadata": {},
   "outputs": [
    {
     "data": {
      "text/plain": [
       "12.566370614359172"
      ]
     },
     "execution_count": 33,
     "metadata": {},
     "output_type": "execute_result"
    }
   ],
   "source": [
    "rs"
   ]
  },
  {
   "cell_type": "code",
   "execution_count": 1,
   "id": "a1c49313",
   "metadata": {},
   "outputs": [
    {
     "name": "stdout",
     "output_type": "stream",
     "text": [
      "9\n"
     ]
    }
   ],
   "source": [
    "from package import pack\n",
    "pack.sum(4,5)"
   ]
  },
  {
   "cell_type": "code",
   "execution_count": 2,
   "id": "ca38761c",
   "metadata": {},
   "outputs": [],
   "source": [
    "import numpy as np"
   ]
  },
  {
   "cell_type": "code",
   "execution_count": 3,
   "id": "3f7742dc",
   "metadata": {},
   "outputs": [],
   "source": [
    "a=np.array([1,2,3,4])"
   ]
  },
  {
   "cell_type": "code",
   "execution_count": 4,
   "id": "dbe0eeb5",
   "metadata": {},
   "outputs": [
    {
     "data": {
      "text/plain": [
       "array([1, 2, 3, 4])"
      ]
     },
     "execution_count": 4,
     "metadata": {},
     "output_type": "execute_result"
    }
   ],
   "source": [
    "a"
   ]
  },
  {
   "cell_type": "code",
   "execution_count": 5,
   "id": "ff804e6c",
   "metadata": {},
   "outputs": [],
   "source": [
    "z=np.zeros((2,3))"
   ]
  },
  {
   "cell_type": "code",
   "execution_count": 6,
   "id": "42bbe9ad",
   "metadata": {},
   "outputs": [
    {
     "data": {
      "text/plain": [
       "array([[0., 0., 0.],\n",
       "       [0., 0., 0.]])"
      ]
     },
     "execution_count": 6,
     "metadata": {},
     "output_type": "execute_result"
    }
   ],
   "source": [
    "z"
   ]
  },
  {
   "cell_type": "code",
   "execution_count": 7,
   "id": "f3f5908e",
   "metadata": {},
   "outputs": [],
   "source": [
    "r=np.arange(0,10,2)"
   ]
  },
  {
   "cell_type": "code",
   "execution_count": 8,
   "id": "7c422034",
   "metadata": {},
   "outputs": [
    {
     "data": {
      "text/plain": [
       "array([0, 2, 4, 6, 8])"
      ]
     },
     "execution_count": 8,
     "metadata": {},
     "output_type": "execute_result"
    }
   ],
   "source": [
    "r"
   ]
  },
  {
   "cell_type": "code",
   "execution_count": 11,
   "id": "9361c009",
   "metadata": {},
   "outputs": [],
   "source": [
    "b=np.array([4,5,6,7])"
   ]
  },
  {
   "cell_type": "code",
   "execution_count": 12,
   "id": "915a76f8",
   "metadata": {},
   "outputs": [
    {
     "data": {
      "text/plain": [
       "array([ 5,  7,  9, 11])"
      ]
     },
     "execution_count": 12,
     "metadata": {},
     "output_type": "execute_result"
    }
   ],
   "source": [
    "a+b"
   ]
  },
  {
   "cell_type": "code",
   "execution_count": 13,
   "id": "e0dc30ad",
   "metadata": {},
   "outputs": [
    {
     "data": {
      "text/plain": [
       "2.5"
      ]
     },
     "execution_count": 13,
     "metadata": {},
     "output_type": "execute_result"
    }
   ],
   "source": [
    "np.mean(a)"
   ]
  },
  {
   "cell_type": "code",
   "execution_count": 14,
   "id": "62ef8611",
   "metadata": {},
   "outputs": [
    {
     "data": {
      "text/plain": [
       "4"
      ]
     },
     "execution_count": 14,
     "metadata": {},
     "output_type": "execute_result"
    }
   ],
   "source": [
    "np.max(a)"
   ]
  },
  {
   "cell_type": "code",
   "execution_count": 15,
   "id": "d1e746d8",
   "metadata": {},
   "outputs": [],
   "source": [
    "c=np.array([[1,2],[3,4]])"
   ]
  },
  {
   "cell_type": "code",
   "execution_count": 16,
   "id": "69fd663e",
   "metadata": {},
   "outputs": [
    {
     "data": {
      "text/plain": [
       "array([[1, 2],\n",
       "       [3, 4]])"
      ]
     },
     "execution_count": 16,
     "metadata": {},
     "output_type": "execute_result"
    }
   ],
   "source": [
    "c"
   ]
  },
  {
   "cell_type": "code",
   "execution_count": 17,
   "id": "d5d4d526",
   "metadata": {},
   "outputs": [],
   "source": [
    "d=np.array([[4,8],[6,9]])"
   ]
  },
  {
   "cell_type": "code",
   "execution_count": 18,
   "id": "013bdf37",
   "metadata": {},
   "outputs": [
    {
     "data": {
      "text/plain": [
       "array([[ 5, 10],\n",
       "       [ 9, 13]])"
      ]
     },
     "execution_count": 18,
     "metadata": {},
     "output_type": "execute_result"
    }
   ],
   "source": [
    "c+d"
   ]
  },
  {
   "cell_type": "code",
   "execution_count": 22,
   "id": "b22f98fd",
   "metadata": {},
   "outputs": [
    {
     "data": {
      "text/plain": [
       "array([[ 4, 16],\n",
       "       [18, 36]])"
      ]
     },
     "execution_count": 22,
     "metadata": {},
     "output_type": "execute_result"
    }
   ],
   "source": [
    "c*d"
   ]
  },
  {
   "cell_type": "code",
   "execution_count": 23,
   "id": "798d0fed",
   "metadata": {},
   "outputs": [
    {
     "data": {
      "text/plain": [
       "array([[16, 26],\n",
       "       [36, 60]])"
      ]
     },
     "execution_count": 23,
     "metadata": {},
     "output_type": "execute_result"
    }
   ],
   "source": [
    "f=np.dot(c,d)\n",
    "f"
   ]
  },
  {
   "cell_type": "code",
   "execution_count": 24,
   "id": "fbf86948",
   "metadata": {},
   "outputs": [
    {
     "data": {
      "text/plain": [
       "array([[16, 36],\n",
       "       [26, 60]])"
      ]
     },
     "execution_count": 24,
     "metadata": {},
     "output_type": "execute_result"
    }
   ],
   "source": [
    "f.T"
   ]
  },
  {
   "cell_type": "code",
   "execution_count": 25,
   "id": "25728c59",
   "metadata": {},
   "outputs": [
    {
     "name": "stdout",
     "output_type": "stream",
     "text": [
      "\n",
      " matrix 1:\n",
      " [[1 2]\n",
      " [3 4]]\n",
      "\n",
      " matrix 1:\n",
      " [[4 8]\n",
      " [6 9]]\n",
      "\n",
      " Addition\n",
      " [[ 5 10]\n",
      " [ 9 13]]\n",
      "\n",
      " Substraction\n",
      " [[-3 -6]\n",
      " [-3 -5]]\n",
      "\n",
      " Multiplication(Element Wise)\n",
      " [[ 4 16]\n",
      " [18 36]]\n",
      "\n",
      " Dot Multiplication(row x column) \n",
      " [[16 26]\n",
      " [36 60]]\n",
      "\n",
      " Transpose\n",
      " [[16 36]\n",
      " [26 60]]\n"
     ]
    }
   ],
   "source": [
    "print(\"\\n matrix 1:\\n\",c)\n",
    "print(\"\\n matrix 1:\\n\",d)\n",
    "print(\"\\n Addition\\n\",c+d)\n",
    "print(\"\\n Substraction\\n\",c-d)\n",
    "print(\"\\n Multiplication(Element Wise)\\n\",c*d)\n",
    "print(\"\\n Dot Multiplication(row x column) \\n\",f)\n",
    "print(\"\\n Transpose\\n\",f.T)"
   ]
  },
  {
   "cell_type": "code",
   "execution_count": null,
   "id": "74ba9a4a",
   "metadata": {},
   "outputs": [],
   "source": []
  }
 ],
 "metadata": {
  "kernelspec": {
   "display_name": "Python 3 (ipykernel)",
   "language": "python",
   "name": "python3"
  },
  "language_info": {
   "codemirror_mode": {
    "name": "ipython",
    "version": 3
   },
   "file_extension": ".py",
   "mimetype": "text/x-python",
   "name": "python",
   "nbconvert_exporter": "python",
   "pygments_lexer": "ipython3",
   "version": "3.9.7"
  }
 },
 "nbformat": 4,
 "nbformat_minor": 5
}
